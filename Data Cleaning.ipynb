{
 "cells": [
  {
   "cell_type": "code",
   "execution_count": 1,
   "metadata": {},
   "outputs": [],
   "source": [
    "import numpy as np\n",
    "import pandas as pd\n",
    "import matplotlib.pyplot as plt"
   ]
  },
  {
   "cell_type": "code",
   "execution_count": 5,
   "metadata": {},
   "outputs": [],
   "source": [
    "#fullspecs\n",
    "Specs_org = pd.read_csv('fullspecs.csv',index_col=0).transpose()"
   ]
  },
  {
   "cell_type": "code",
   "execution_count": 3,
   "metadata": {
    "scrolled": true
   },
   "outputs": [
    {
     "name": "stdout",
     "output_type": "stream",
     "text": [
      "(32316, 234)\n"
     ]
    },
    {
     "data": {
      "text/html": [
       "<div>\n",
       "<style scoped>\n",
       "    .dataframe tbody tr th:only-of-type {\n",
       "        vertical-align: middle;\n",
       "    }\n",
       "\n",
       "    .dataframe tbody tr th {\n",
       "        vertical-align: top;\n",
       "    }\n",
       "\n",
       "    .dataframe thead th {\n",
       "        text-align: right;\n",
       "    }\n",
       "</style>\n",
       "<table border=\"1\" class=\"dataframe\">\n",
       "  <thead>\n",
       "    <tr style=\"text-align: right;\">\n",
       "      <th></th>\n",
       "      <th>MSRP</th>\n",
       "      <th>Gas Mileage</th>\n",
       "      <th>Engine</th>\n",
       "      <th>EPA Class</th>\n",
       "      <th>Style Name</th>\n",
       "      <th>Drivetrain</th>\n",
       "      <th>Passenger Capacity</th>\n",
       "      <th>Passenger Doors</th>\n",
       "      <th>Body Style</th>\n",
       "      <th>Transmission</th>\n",
       "      <th>...</th>\n",
       "      <th>Fourth Hip Room (in)</th>\n",
       "      <th>Fourth Leg Room (in)</th>\n",
       "      <th>Fourth Shoulder Room (in)</th>\n",
       "      <th>Fourth Head Room (in)</th>\n",
       "      <th>Fifth Shoulder Room (in)</th>\n",
       "      <th>Fifth Head Room (in)</th>\n",
       "      <th>Fifth Hip Room (in)</th>\n",
       "      <th>Fifth Leg Room (in)</th>\n",
       "      <th>Corrosion Note</th>\n",
       "      <th>Hybrid/Electric Components Note</th>\n",
       "    </tr>\n",
       "  </thead>\n",
       "  <tbody>\n",
       "    <tr>\n",
       "      <th>2019 Acura RDX Specs: FWD w/Technology Pkg</th>\n",
       "      <td>$40,600</td>\n",
       "      <td>22 mpg City/28 mpg Hwy</td>\n",
       "      <td>Turbo Premium Unleaded I-4, 2.0 L</td>\n",
       "      <td>Small Sport Utility Vehicles 2WD</td>\n",
       "      <td>FWD w/Technology Pkg</td>\n",
       "      <td>Front Wheel Drive</td>\n",
       "      <td>5</td>\n",
       "      <td>4</td>\n",
       "      <td>Sport Utility</td>\n",
       "      <td>Transmission: 10-Speed Automatic -inc: sequent...</td>\n",
       "      <td>...</td>\n",
       "      <td>NaN</td>\n",
       "      <td>NaN</td>\n",
       "      <td>NaN</td>\n",
       "      <td>NaN</td>\n",
       "      <td>NaN</td>\n",
       "      <td>NaN</td>\n",
       "      <td>NaN</td>\n",
       "      <td>NaN</td>\n",
       "      <td>NaN</td>\n",
       "      <td>NaN</td>\n",
       "    </tr>\n",
       "    <tr>\n",
       "      <th>2019 Acura RDX Specs: FWD w/Advance Pkg</th>\n",
       "      <td>$45,500</td>\n",
       "      <td>22 mpg City/28 mpg Hwy</td>\n",
       "      <td>Turbo Premium Unleaded I-4, 2.0 L</td>\n",
       "      <td>Small Sport Utility Vehicles 2WD</td>\n",
       "      <td>FWD w/Advance Pkg</td>\n",
       "      <td>Front Wheel Drive</td>\n",
       "      <td>5</td>\n",
       "      <td>4</td>\n",
       "      <td>Sport Utility</td>\n",
       "      <td>Transmission: 10-Speed Automatic -inc: sequent...</td>\n",
       "      <td>...</td>\n",
       "      <td>NaN</td>\n",
       "      <td>NaN</td>\n",
       "      <td>NaN</td>\n",
       "      <td>NaN</td>\n",
       "      <td>NaN</td>\n",
       "      <td>NaN</td>\n",
       "      <td>NaN</td>\n",
       "      <td>NaN</td>\n",
       "      <td>NaN</td>\n",
       "      <td>NaN</td>\n",
       "    </tr>\n",
       "    <tr>\n",
       "      <th>2019 Acura RDX Specs: FWD w/A-Spec Pkg</th>\n",
       "      <td>$43,600</td>\n",
       "      <td>22 mpg City/27 mpg Hwy</td>\n",
       "      <td>Turbo Premium Unleaded I-4, 2.0 L</td>\n",
       "      <td>Small Sport Utility Vehicles 2WD</td>\n",
       "      <td>FWD w/A-Spec Pkg</td>\n",
       "      <td>Front Wheel Drive</td>\n",
       "      <td>5</td>\n",
       "      <td>4</td>\n",
       "      <td>Sport Utility</td>\n",
       "      <td>Transmission: 10-Speed Automatic -inc: sequent...</td>\n",
       "      <td>...</td>\n",
       "      <td>NaN</td>\n",
       "      <td>NaN</td>\n",
       "      <td>NaN</td>\n",
       "      <td>NaN</td>\n",
       "      <td>NaN</td>\n",
       "      <td>NaN</td>\n",
       "      <td>NaN</td>\n",
       "      <td>NaN</td>\n",
       "      <td>NaN</td>\n",
       "      <td>NaN</td>\n",
       "    </tr>\n",
       "    <tr>\n",
       "      <th>2019 Acura RDX Specs: FWD</th>\n",
       "      <td>$37,400</td>\n",
       "      <td>22 mpg City/28 mpg Hwy</td>\n",
       "      <td>Turbo Premium Unleaded I-4, 2.0 L</td>\n",
       "      <td>Small Sport Utility Vehicles 2WD</td>\n",
       "      <td>FWD</td>\n",
       "      <td>Front Wheel Drive</td>\n",
       "      <td>5</td>\n",
       "      <td>4</td>\n",
       "      <td>Sport Utility</td>\n",
       "      <td>Transmission: 10-Speed Automatic -inc: sequent...</td>\n",
       "      <td>...</td>\n",
       "      <td>NaN</td>\n",
       "      <td>NaN</td>\n",
       "      <td>NaN</td>\n",
       "      <td>NaN</td>\n",
       "      <td>NaN</td>\n",
       "      <td>NaN</td>\n",
       "      <td>NaN</td>\n",
       "      <td>NaN</td>\n",
       "      <td>NaN</td>\n",
       "      <td>NaN</td>\n",
       "    </tr>\n",
       "    <tr>\n",
       "      <th>2019 Acura RDX Specs: AWD w/Technology Pkg</th>\n",
       "      <td>$42,600</td>\n",
       "      <td>21 mpg City/27 mpg Hwy</td>\n",
       "      <td>Turbo Premium Unleaded I-4, 2.0 L</td>\n",
       "      <td>Small Sport Utility Vehicles 4WD</td>\n",
       "      <td>AWD w/Technology Pkg</td>\n",
       "      <td>All Wheel Drive</td>\n",
       "      <td>5</td>\n",
       "      <td>4</td>\n",
       "      <td>Sport Utility</td>\n",
       "      <td>Transmission: 10-Speed Automatic -inc: sequent...</td>\n",
       "      <td>...</td>\n",
       "      <td>NaN</td>\n",
       "      <td>NaN</td>\n",
       "      <td>NaN</td>\n",
       "      <td>NaN</td>\n",
       "      <td>NaN</td>\n",
       "      <td>NaN</td>\n",
       "      <td>NaN</td>\n",
       "      <td>NaN</td>\n",
       "      <td>NaN</td>\n",
       "      <td>NaN</td>\n",
       "    </tr>\n",
       "    <tr>\n",
       "      <th>2019 Acura RDX Specs: AWD w/Advance Pkg</th>\n",
       "      <td>$47,500</td>\n",
       "      <td>21 mpg City/27 mpg Hwy</td>\n",
       "      <td>Turbo Premium Unleaded I-4, 2.0 L</td>\n",
       "      <td>Small Sport Utility Vehicles 4WD</td>\n",
       "      <td>AWD w/Advance Pkg</td>\n",
       "      <td>All Wheel Drive</td>\n",
       "      <td>5</td>\n",
       "      <td>4</td>\n",
       "      <td>Sport Utility</td>\n",
       "      <td>Transmission: 10-Speed Automatic -inc: sequent...</td>\n",
       "      <td>...</td>\n",
       "      <td>NaN</td>\n",
       "      <td>NaN</td>\n",
       "      <td>NaN</td>\n",
       "      <td>NaN</td>\n",
       "      <td>NaN</td>\n",
       "      <td>NaN</td>\n",
       "      <td>NaN</td>\n",
       "      <td>NaN</td>\n",
       "      <td>NaN</td>\n",
       "      <td>NaN</td>\n",
       "    </tr>\n",
       "    <tr>\n",
       "      <th>2019 Acura RDX Specs: AWD w/A-Spec Pkg</th>\n",
       "      <td>$45,600</td>\n",
       "      <td>21 mpg City/26 mpg Hwy</td>\n",
       "      <td>Turbo Premium Unleaded I-4, 2.0 L</td>\n",
       "      <td>Small Sport Utility Vehicles 4WD</td>\n",
       "      <td>AWD w/A-Spec Pkg</td>\n",
       "      <td>All Wheel Drive</td>\n",
       "      <td>5</td>\n",
       "      <td>4</td>\n",
       "      <td>Sport Utility</td>\n",
       "      <td>Transmission: 10-Speed Automatic -inc: sequent...</td>\n",
       "      <td>...</td>\n",
       "      <td>NaN</td>\n",
       "      <td>NaN</td>\n",
       "      <td>NaN</td>\n",
       "      <td>NaN</td>\n",
       "      <td>NaN</td>\n",
       "      <td>NaN</td>\n",
       "      <td>NaN</td>\n",
       "      <td>NaN</td>\n",
       "      <td>NaN</td>\n",
       "      <td>NaN</td>\n",
       "    </tr>\n",
       "    <tr>\n",
       "      <th>2018 Acura RDX Specs: AWD</th>\n",
       "      <td>$37,500</td>\n",
       "      <td>19 mpg City/27 mpg Hwy</td>\n",
       "      <td>Premium Unleaded V-6, 3.5 L</td>\n",
       "      <td>Small Sport Utility Vehicles 4WD</td>\n",
       "      <td>AWD</td>\n",
       "      <td>All Wheel Drive</td>\n",
       "      <td>5</td>\n",
       "      <td>4</td>\n",
       "      <td>Sport Utility</td>\n",
       "      <td>Transmission: 6-Speed Automatic -inc: Sequenti...</td>\n",
       "      <td>...</td>\n",
       "      <td>NaN</td>\n",
       "      <td>NaN</td>\n",
       "      <td>NaN</td>\n",
       "      <td>NaN</td>\n",
       "      <td>NaN</td>\n",
       "      <td>NaN</td>\n",
       "      <td>NaN</td>\n",
       "      <td>NaN</td>\n",
       "      <td>NaN</td>\n",
       "      <td>NaN</td>\n",
       "    </tr>\n",
       "    <tr>\n",
       "      <th>2018 Acura RDX Specs: FWD w/Technology/AcuraWatch Plus Pkg</th>\n",
       "      <td>$41,000</td>\n",
       "      <td>20 mpg City/28 mpg Hwy</td>\n",
       "      <td>Premium Unleaded V-6, 3.5 L</td>\n",
       "      <td>Small Sport Utility Vehicles 2WD</td>\n",
       "      <td>FWD w/Technology/AcuraWatch Plus Pkg</td>\n",
       "      <td>Front Wheel Drive</td>\n",
       "      <td>5</td>\n",
       "      <td>4</td>\n",
       "      <td>Sport Utility</td>\n",
       "      <td>Transmission: 6-Speed Automatic -inc: Sequenti...</td>\n",
       "      <td>...</td>\n",
       "      <td>NaN</td>\n",
       "      <td>NaN</td>\n",
       "      <td>NaN</td>\n",
       "      <td>NaN</td>\n",
       "      <td>NaN</td>\n",
       "      <td>NaN</td>\n",
       "      <td>NaN</td>\n",
       "      <td>NaN</td>\n",
       "      <td>NaN</td>\n",
       "      <td>NaN</td>\n",
       "    </tr>\n",
       "    <tr>\n",
       "      <th>2018 Acura RDX Specs: FWD w/Technology Pkg</th>\n",
       "      <td>$39,700</td>\n",
       "      <td>20 mpg City/28 mpg Hwy</td>\n",
       "      <td>Premium Unleaded V-6, 3.5 L</td>\n",
       "      <td>Small Sport Utility Vehicles 2WD</td>\n",
       "      <td>FWD w/Technology Pkg</td>\n",
       "      <td>Front Wheel Drive</td>\n",
       "      <td>5</td>\n",
       "      <td>4</td>\n",
       "      <td>Sport Utility</td>\n",
       "      <td>Transmission: 6-Speed Automatic -inc: Sequenti...</td>\n",
       "      <td>...</td>\n",
       "      <td>NaN</td>\n",
       "      <td>NaN</td>\n",
       "      <td>NaN</td>\n",
       "      <td>NaN</td>\n",
       "      <td>NaN</td>\n",
       "      <td>NaN</td>\n",
       "      <td>NaN</td>\n",
       "      <td>NaN</td>\n",
       "      <td>NaN</td>\n",
       "      <td>NaN</td>\n",
       "    </tr>\n",
       "  </tbody>\n",
       "</table>\n",
       "<p>10 rows × 234 columns</p>\n",
       "</div>"
      ],
      "text/plain": [
       "                                                       MSRP  \\\n",
       "2019 Acura RDX Specs: FWD w/Technology Pkg          $40,600   \n",
       "2019 Acura RDX Specs: FWD w/Advance Pkg             $45,500   \n",
       "2019 Acura RDX Specs: FWD w/A-Spec Pkg              $43,600   \n",
       "2019 Acura RDX Specs: FWD                           $37,400   \n",
       "2019 Acura RDX Specs: AWD w/Technology Pkg          $42,600   \n",
       "2019 Acura RDX Specs: AWD w/Advance Pkg             $47,500   \n",
       "2019 Acura RDX Specs: AWD w/A-Spec Pkg              $45,600   \n",
       "2018 Acura RDX Specs: AWD                           $37,500   \n",
       "2018 Acura RDX Specs: FWD w/Technology/AcuraWat...  $41,000   \n",
       "2018 Acura RDX Specs: FWD w/Technology Pkg          $39,700   \n",
       "\n",
       "                                                               Gas Mileage  \\\n",
       "2019 Acura RDX Specs: FWD w/Technology Pkg          22 mpg City/28 mpg Hwy   \n",
       "2019 Acura RDX Specs: FWD w/Advance Pkg             22 mpg City/28 mpg Hwy   \n",
       "2019 Acura RDX Specs: FWD w/A-Spec Pkg              22 mpg City/27 mpg Hwy   \n",
       "2019 Acura RDX Specs: FWD                           22 mpg City/28 mpg Hwy   \n",
       "2019 Acura RDX Specs: AWD w/Technology Pkg          21 mpg City/27 mpg Hwy   \n",
       "2019 Acura RDX Specs: AWD w/Advance Pkg             21 mpg City/27 mpg Hwy   \n",
       "2019 Acura RDX Specs: AWD w/A-Spec Pkg              21 mpg City/26 mpg Hwy   \n",
       "2018 Acura RDX Specs: AWD                           19 mpg City/27 mpg Hwy   \n",
       "2018 Acura RDX Specs: FWD w/Technology/AcuraWat...  20 mpg City/28 mpg Hwy   \n",
       "2018 Acura RDX Specs: FWD w/Technology Pkg          20 mpg City/28 mpg Hwy   \n",
       "\n",
       "                                                                               Engine  \\\n",
       "2019 Acura RDX Specs: FWD w/Technology Pkg          Turbo Premium Unleaded I-4, 2.0 L   \n",
       "2019 Acura RDX Specs: FWD w/Advance Pkg             Turbo Premium Unleaded I-4, 2.0 L   \n",
       "2019 Acura RDX Specs: FWD w/A-Spec Pkg              Turbo Premium Unleaded I-4, 2.0 L   \n",
       "2019 Acura RDX Specs: FWD                           Turbo Premium Unleaded I-4, 2.0 L   \n",
       "2019 Acura RDX Specs: AWD w/Technology Pkg          Turbo Premium Unleaded I-4, 2.0 L   \n",
       "2019 Acura RDX Specs: AWD w/Advance Pkg             Turbo Premium Unleaded I-4, 2.0 L   \n",
       "2019 Acura RDX Specs: AWD w/A-Spec Pkg              Turbo Premium Unleaded I-4, 2.0 L   \n",
       "2018 Acura RDX Specs: AWD                                 Premium Unleaded V-6, 3.5 L   \n",
       "2018 Acura RDX Specs: FWD w/Technology/AcuraWat...        Premium Unleaded V-6, 3.5 L   \n",
       "2018 Acura RDX Specs: FWD w/Technology Pkg                Premium Unleaded V-6, 3.5 L   \n",
       "\n",
       "                                                                           EPA Class  \\\n",
       "2019 Acura RDX Specs: FWD w/Technology Pkg          Small Sport Utility Vehicles 2WD   \n",
       "2019 Acura RDX Specs: FWD w/Advance Pkg             Small Sport Utility Vehicles 2WD   \n",
       "2019 Acura RDX Specs: FWD w/A-Spec Pkg              Small Sport Utility Vehicles 2WD   \n",
       "2019 Acura RDX Specs: FWD                           Small Sport Utility Vehicles 2WD   \n",
       "2019 Acura RDX Specs: AWD w/Technology Pkg          Small Sport Utility Vehicles 4WD   \n",
       "2019 Acura RDX Specs: AWD w/Advance Pkg             Small Sport Utility Vehicles 4WD   \n",
       "2019 Acura RDX Specs: AWD w/A-Spec Pkg              Small Sport Utility Vehicles 4WD   \n",
       "2018 Acura RDX Specs: AWD                           Small Sport Utility Vehicles 4WD   \n",
       "2018 Acura RDX Specs: FWD w/Technology/AcuraWat...  Small Sport Utility Vehicles 2WD   \n",
       "2018 Acura RDX Specs: FWD w/Technology Pkg          Small Sport Utility Vehicles 2WD   \n",
       "\n",
       "                                                                              Style Name  \\\n",
       "2019 Acura RDX Specs: FWD w/Technology Pkg                          FWD w/Technology Pkg   \n",
       "2019 Acura RDX Specs: FWD w/Advance Pkg                                FWD w/Advance Pkg   \n",
       "2019 Acura RDX Specs: FWD w/A-Spec Pkg                                  FWD w/A-Spec Pkg   \n",
       "2019 Acura RDX Specs: FWD                                                            FWD   \n",
       "2019 Acura RDX Specs: AWD w/Technology Pkg                          AWD w/Technology Pkg   \n",
       "2019 Acura RDX Specs: AWD w/Advance Pkg                                AWD w/Advance Pkg   \n",
       "2019 Acura RDX Specs: AWD w/A-Spec Pkg                                  AWD w/A-Spec Pkg   \n",
       "2018 Acura RDX Specs: AWD                                                            AWD   \n",
       "2018 Acura RDX Specs: FWD w/Technology/AcuraWat...  FWD w/Technology/AcuraWatch Plus Pkg   \n",
       "2018 Acura RDX Specs: FWD w/Technology Pkg                          FWD w/Technology Pkg   \n",
       "\n",
       "                                                           Drivetrain  \\\n",
       "2019 Acura RDX Specs: FWD w/Technology Pkg          Front Wheel Drive   \n",
       "2019 Acura RDX Specs: FWD w/Advance Pkg             Front Wheel Drive   \n",
       "2019 Acura RDX Specs: FWD w/A-Spec Pkg              Front Wheel Drive   \n",
       "2019 Acura RDX Specs: FWD                           Front Wheel Drive   \n",
       "2019 Acura RDX Specs: AWD w/Technology Pkg            All Wheel Drive   \n",
       "2019 Acura RDX Specs: AWD w/Advance Pkg               All Wheel Drive   \n",
       "2019 Acura RDX Specs: AWD w/A-Spec Pkg                All Wheel Drive   \n",
       "2018 Acura RDX Specs: AWD                             All Wheel Drive   \n",
       "2018 Acura RDX Specs: FWD w/Technology/AcuraWat...  Front Wheel Drive   \n",
       "2018 Acura RDX Specs: FWD w/Technology Pkg          Front Wheel Drive   \n",
       "\n",
       "                                                   Passenger Capacity  \\\n",
       "2019 Acura RDX Specs: FWD w/Technology Pkg                          5   \n",
       "2019 Acura RDX Specs: FWD w/Advance Pkg                             5   \n",
       "2019 Acura RDX Specs: FWD w/A-Spec Pkg                              5   \n",
       "2019 Acura RDX Specs: FWD                                           5   \n",
       "2019 Acura RDX Specs: AWD w/Technology Pkg                          5   \n",
       "2019 Acura RDX Specs: AWD w/Advance Pkg                             5   \n",
       "2019 Acura RDX Specs: AWD w/A-Spec Pkg                              5   \n",
       "2018 Acura RDX Specs: AWD                                           5   \n",
       "2018 Acura RDX Specs: FWD w/Technology/AcuraWat...                  5   \n",
       "2018 Acura RDX Specs: FWD w/Technology Pkg                          5   \n",
       "\n",
       "                                                   Passenger Doors  \\\n",
       "2019 Acura RDX Specs: FWD w/Technology Pkg                       4   \n",
       "2019 Acura RDX Specs: FWD w/Advance Pkg                          4   \n",
       "2019 Acura RDX Specs: FWD w/A-Spec Pkg                           4   \n",
       "2019 Acura RDX Specs: FWD                                        4   \n",
       "2019 Acura RDX Specs: AWD w/Technology Pkg                       4   \n",
       "2019 Acura RDX Specs: AWD w/Advance Pkg                          4   \n",
       "2019 Acura RDX Specs: AWD w/A-Spec Pkg                           4   \n",
       "2018 Acura RDX Specs: AWD                                        4   \n",
       "2018 Acura RDX Specs: FWD w/Technology/AcuraWat...               4   \n",
       "2018 Acura RDX Specs: FWD w/Technology Pkg                       4   \n",
       "\n",
       "                                                       Body Style  \\\n",
       "2019 Acura RDX Specs: FWD w/Technology Pkg          Sport Utility   \n",
       "2019 Acura RDX Specs: FWD w/Advance Pkg             Sport Utility   \n",
       "2019 Acura RDX Specs: FWD w/A-Spec Pkg              Sport Utility   \n",
       "2019 Acura RDX Specs: FWD                           Sport Utility   \n",
       "2019 Acura RDX Specs: AWD w/Technology Pkg          Sport Utility   \n",
       "2019 Acura RDX Specs: AWD w/Advance Pkg             Sport Utility   \n",
       "2019 Acura RDX Specs: AWD w/A-Spec Pkg              Sport Utility   \n",
       "2018 Acura RDX Specs: AWD                           Sport Utility   \n",
       "2018 Acura RDX Specs: FWD w/Technology/AcuraWat...  Sport Utility   \n",
       "2018 Acura RDX Specs: FWD w/Technology Pkg          Sport Utility   \n",
       "\n",
       "                                                                                         Transmission  \\\n",
       "2019 Acura RDX Specs: FWD w/Technology Pkg          Transmission: 10-Speed Automatic -inc: sequent...   \n",
       "2019 Acura RDX Specs: FWD w/Advance Pkg             Transmission: 10-Speed Automatic -inc: sequent...   \n",
       "2019 Acura RDX Specs: FWD w/A-Spec Pkg              Transmission: 10-Speed Automatic -inc: sequent...   \n",
       "2019 Acura RDX Specs: FWD                           Transmission: 10-Speed Automatic -inc: sequent...   \n",
       "2019 Acura RDX Specs: AWD w/Technology Pkg          Transmission: 10-Speed Automatic -inc: sequent...   \n",
       "2019 Acura RDX Specs: AWD w/Advance Pkg             Transmission: 10-Speed Automatic -inc: sequent...   \n",
       "2019 Acura RDX Specs: AWD w/A-Spec Pkg              Transmission: 10-Speed Automatic -inc: sequent...   \n",
       "2018 Acura RDX Specs: AWD                           Transmission: 6-Speed Automatic -inc: Sequenti...   \n",
       "2018 Acura RDX Specs: FWD w/Technology/AcuraWat...  Transmission: 6-Speed Automatic -inc: Sequenti...   \n",
       "2018 Acura RDX Specs: FWD w/Technology Pkg          Transmission: 6-Speed Automatic -inc: Sequenti...   \n",
       "\n",
       "                                                    ... Fourth Hip Room (in)  \\\n",
       "2019 Acura RDX Specs: FWD w/Technology Pkg          ...                  NaN   \n",
       "2019 Acura RDX Specs: FWD w/Advance Pkg             ...                  NaN   \n",
       "2019 Acura RDX Specs: FWD w/A-Spec Pkg              ...                  NaN   \n",
       "2019 Acura RDX Specs: FWD                           ...                  NaN   \n",
       "2019 Acura RDX Specs: AWD w/Technology Pkg          ...                  NaN   \n",
       "2019 Acura RDX Specs: AWD w/Advance Pkg             ...                  NaN   \n",
       "2019 Acura RDX Specs: AWD w/A-Spec Pkg              ...                  NaN   \n",
       "2018 Acura RDX Specs: AWD                           ...                  NaN   \n",
       "2018 Acura RDX Specs: FWD w/Technology/AcuraWat...  ...                  NaN   \n",
       "2018 Acura RDX Specs: FWD w/Technology Pkg          ...                  NaN   \n",
       "\n",
       "                                                   Fourth Leg Room (in)  \\\n",
       "2019 Acura RDX Specs: FWD w/Technology Pkg                          NaN   \n",
       "2019 Acura RDX Specs: FWD w/Advance Pkg                             NaN   \n",
       "2019 Acura RDX Specs: FWD w/A-Spec Pkg                              NaN   \n",
       "2019 Acura RDX Specs: FWD                                           NaN   \n",
       "2019 Acura RDX Specs: AWD w/Technology Pkg                          NaN   \n",
       "2019 Acura RDX Specs: AWD w/Advance Pkg                             NaN   \n",
       "2019 Acura RDX Specs: AWD w/A-Spec Pkg                              NaN   \n",
       "2018 Acura RDX Specs: AWD                                           NaN   \n",
       "2018 Acura RDX Specs: FWD w/Technology/AcuraWat...                  NaN   \n",
       "2018 Acura RDX Specs: FWD w/Technology Pkg                          NaN   \n",
       "\n",
       "                                                   Fourth Shoulder Room (in)  \\\n",
       "2019 Acura RDX Specs: FWD w/Technology Pkg                               NaN   \n",
       "2019 Acura RDX Specs: FWD w/Advance Pkg                                  NaN   \n",
       "2019 Acura RDX Specs: FWD w/A-Spec Pkg                                   NaN   \n",
       "2019 Acura RDX Specs: FWD                                                NaN   \n",
       "2019 Acura RDX Specs: AWD w/Technology Pkg                               NaN   \n",
       "2019 Acura RDX Specs: AWD w/Advance Pkg                                  NaN   \n",
       "2019 Acura RDX Specs: AWD w/A-Spec Pkg                                   NaN   \n",
       "2018 Acura RDX Specs: AWD                                                NaN   \n",
       "2018 Acura RDX Specs: FWD w/Technology/AcuraWat...                       NaN   \n",
       "2018 Acura RDX Specs: FWD w/Technology Pkg                               NaN   \n",
       "\n",
       "                                                   Fourth Head Room (in)  \\\n",
       "2019 Acura RDX Specs: FWD w/Technology Pkg                           NaN   \n",
       "2019 Acura RDX Specs: FWD w/Advance Pkg                              NaN   \n",
       "2019 Acura RDX Specs: FWD w/A-Spec Pkg                               NaN   \n",
       "2019 Acura RDX Specs: FWD                                            NaN   \n",
       "2019 Acura RDX Specs: AWD w/Technology Pkg                           NaN   \n",
       "2019 Acura RDX Specs: AWD w/Advance Pkg                              NaN   \n",
       "2019 Acura RDX Specs: AWD w/A-Spec Pkg                               NaN   \n",
       "2018 Acura RDX Specs: AWD                                            NaN   \n",
       "2018 Acura RDX Specs: FWD w/Technology/AcuraWat...                   NaN   \n",
       "2018 Acura RDX Specs: FWD w/Technology Pkg                           NaN   \n",
       "\n",
       "                                                   Fifth Shoulder Room (in)  \\\n",
       "2019 Acura RDX Specs: FWD w/Technology Pkg                              NaN   \n",
       "2019 Acura RDX Specs: FWD w/Advance Pkg                                 NaN   \n",
       "2019 Acura RDX Specs: FWD w/A-Spec Pkg                                  NaN   \n",
       "2019 Acura RDX Specs: FWD                                               NaN   \n",
       "2019 Acura RDX Specs: AWD w/Technology Pkg                              NaN   \n",
       "2019 Acura RDX Specs: AWD w/Advance Pkg                                 NaN   \n",
       "2019 Acura RDX Specs: AWD w/A-Spec Pkg                                  NaN   \n",
       "2018 Acura RDX Specs: AWD                                               NaN   \n",
       "2018 Acura RDX Specs: FWD w/Technology/AcuraWat...                      NaN   \n",
       "2018 Acura RDX Specs: FWD w/Technology Pkg                              NaN   \n",
       "\n",
       "                                                   Fifth Head Room (in)  \\\n",
       "2019 Acura RDX Specs: FWD w/Technology Pkg                          NaN   \n",
       "2019 Acura RDX Specs: FWD w/Advance Pkg                             NaN   \n",
       "2019 Acura RDX Specs: FWD w/A-Spec Pkg                              NaN   \n",
       "2019 Acura RDX Specs: FWD                                           NaN   \n",
       "2019 Acura RDX Specs: AWD w/Technology Pkg                          NaN   \n",
       "2019 Acura RDX Specs: AWD w/Advance Pkg                             NaN   \n",
       "2019 Acura RDX Specs: AWD w/A-Spec Pkg                              NaN   \n",
       "2018 Acura RDX Specs: AWD                                           NaN   \n",
       "2018 Acura RDX Specs: FWD w/Technology/AcuraWat...                  NaN   \n",
       "2018 Acura RDX Specs: FWD w/Technology Pkg                          NaN   \n",
       "\n",
       "                                                   Fifth Hip Room (in)  \\\n",
       "2019 Acura RDX Specs: FWD w/Technology Pkg                         NaN   \n",
       "2019 Acura RDX Specs: FWD w/Advance Pkg                            NaN   \n",
       "2019 Acura RDX Specs: FWD w/A-Spec Pkg                             NaN   \n",
       "2019 Acura RDX Specs: FWD                                          NaN   \n",
       "2019 Acura RDX Specs: AWD w/Technology Pkg                         NaN   \n",
       "2019 Acura RDX Specs: AWD w/Advance Pkg                            NaN   \n",
       "2019 Acura RDX Specs: AWD w/A-Spec Pkg                             NaN   \n",
       "2018 Acura RDX Specs: AWD                                          NaN   \n",
       "2018 Acura RDX Specs: FWD w/Technology/AcuraWat...                 NaN   \n",
       "2018 Acura RDX Specs: FWD w/Technology Pkg                         NaN   \n",
       "\n",
       "                                                   Fifth Leg Room (in)  \\\n",
       "2019 Acura RDX Specs: FWD w/Technology Pkg                         NaN   \n",
       "2019 Acura RDX Specs: FWD w/Advance Pkg                            NaN   \n",
       "2019 Acura RDX Specs: FWD w/A-Spec Pkg                             NaN   \n",
       "2019 Acura RDX Specs: FWD                                          NaN   \n",
       "2019 Acura RDX Specs: AWD w/Technology Pkg                         NaN   \n",
       "2019 Acura RDX Specs: AWD w/Advance Pkg                            NaN   \n",
       "2019 Acura RDX Specs: AWD w/A-Spec Pkg                             NaN   \n",
       "2018 Acura RDX Specs: AWD                                          NaN   \n",
       "2018 Acura RDX Specs: FWD w/Technology/AcuraWat...                 NaN   \n",
       "2018 Acura RDX Specs: FWD w/Technology Pkg                         NaN   \n",
       "\n",
       "                                                   Corrosion Note  \\\n",
       "2019 Acura RDX Specs: FWD w/Technology Pkg                    NaN   \n",
       "2019 Acura RDX Specs: FWD w/Advance Pkg                       NaN   \n",
       "2019 Acura RDX Specs: FWD w/A-Spec Pkg                        NaN   \n",
       "2019 Acura RDX Specs: FWD                                     NaN   \n",
       "2019 Acura RDX Specs: AWD w/Technology Pkg                    NaN   \n",
       "2019 Acura RDX Specs: AWD w/Advance Pkg                       NaN   \n",
       "2019 Acura RDX Specs: AWD w/A-Spec Pkg                        NaN   \n",
       "2018 Acura RDX Specs: AWD                                     NaN   \n",
       "2018 Acura RDX Specs: FWD w/Technology/AcuraWat...            NaN   \n",
       "2018 Acura RDX Specs: FWD w/Technology Pkg                    NaN   \n",
       "\n",
       "                                                   Hybrid/Electric Components Note  \n",
       "2019 Acura RDX Specs: FWD w/Technology Pkg                                     NaN  \n",
       "2019 Acura RDX Specs: FWD w/Advance Pkg                                        NaN  \n",
       "2019 Acura RDX Specs: FWD w/A-Spec Pkg                                         NaN  \n",
       "2019 Acura RDX Specs: FWD                                                      NaN  \n",
       "2019 Acura RDX Specs: AWD w/Technology Pkg                                     NaN  \n",
       "2019 Acura RDX Specs: AWD w/Advance Pkg                                        NaN  \n",
       "2019 Acura RDX Specs: AWD w/A-Spec Pkg                                         NaN  \n",
       "2018 Acura RDX Specs: AWD                                                      NaN  \n",
       "2018 Acura RDX Specs: FWD w/Technology/AcuraWat...                             NaN  \n",
       "2018 Acura RDX Specs: FWD w/Technology Pkg                                     NaN  \n",
       "\n",
       "[10 rows x 234 columns]"
      ]
     },
     "execution_count": 3,
     "metadata": {},
     "output_type": "execute_result"
    }
   ],
   "source": [
    "print(Specs_org.shape)\n",
    "Specs_org.head(10)"
   ]
  },
  {
   "cell_type": "code",
   "execution_count": 32,
   "metadata": {},
   "outputs": [],
   "source": [
    "#Replace Specs: with blank - eg: '2019 Acura RDX Specs: FWD w/Technology Pkg'--> '2019 Acura RDX FWD w/Technology Pkg'\n",
    "Specs_org.index = Specs_org.index.str.replace(' Specs: ', ' ')"
   ]
  },
  {
   "cell_type": "code",
   "execution_count": 33,
   "metadata": {},
   "outputs": [],
   "source": [
    "symbols = '!@#$%^&*()_+[]-–'\n",
    "letters = 'abcdefghijklmnopqrstuvwxyzABCDEFGHIJKLMNOPQRSTUVWXYZ'\n",
    "numbers = '0123456789'"
   ]
  },
  {
   "cell_type": "code",
   "execution_count": 34,
   "metadata": {},
   "outputs": [],
   "source": [
    "#save the original data in df\n",
    "df = Specs_org"
   ]
  },
  {
   "cell_type": "markdown",
   "metadata": {},
   "source": [
    "### Editing Columns"
   ]
  },
  {
   "cell_type": "markdown",
   "metadata": {},
   "source": [
    "#### Detecting Hybrid Cars"
   ]
  },
  {
   "cell_type": "code",
   "execution_count": 35,
   "metadata": {},
   "outputs": [
    {
     "data": {
      "text/plain": [
       "0    31441\n",
       "1      875\n",
       "Name: Hybrid, dtype: int64"
      ]
     },
     "execution_count": 35,
     "metadata": {},
     "output_type": "execute_result"
    }
   ],
   "source": [
    "#do not include this in colab notebook yet\n",
    "df['Hybrid'] = df['Hybrid/Electric Components Years'].apply(lambda x: 1 if len(str(x))!=3 else 0)\n",
    "df['Hybrid'].value_counts()"
   ]
  },
  {
   "cell_type": "markdown",
   "metadata": {},
   "source": [
    "#### Detecting hybrid cars (2)"
   ]
  },
  {
   "cell_type": "code",
   "execution_count": 36,
   "metadata": {},
   "outputs": [
    {
     "data": {
      "text/plain": [
       "0    31378\n",
       "1      938\n",
       "Name: Hybrid Engine, dtype: int64"
      ]
     },
     "execution_count": 36,
     "metadata": {},
     "output_type": "execute_result"
    }
   ],
   "source": [
    "#do not include this in colab notebook yet\n",
    "df['Hybrid Engine'] = df['Engine Type'].apply(lambda x: 1 if 'electric' in str.lower(str(x)) else 0)\n",
    "df['Hybrid Engine'].value_counts()"
   ]
  },
  {
   "cell_type": "markdown",
   "metadata": {},
   "source": [
    "#### Replace 'NA' and 'TBD' with np.nan"
   ]
  },
  {
   "cell_type": "code",
   "execution_count": 37,
   "metadata": {},
   "outputs": [],
   "source": [
    "df = df.replace(\"- TBD –\", 'NA')\n",
    "df = df.replace(\"- TBD -\", 'NA')\n",
    "df = df.replace(\"NA\", np.nan)"
   ]
  },
  {
   "cell_type": "markdown",
   "metadata": {},
   "source": [
    "#### Forbidden characters"
   ]
  },
  {
   "cell_type": "code",
   "execution_count": 26,
   "metadata": {
    "scrolled": true
   },
   "outputs": [
    {
     "data": {
      "text/plain": [
       "Index(['MSRP', 'Gas Mileage', 'Engine', 'EPA Class', 'Style Name',\n",
       "       'Drivetrain', 'Passenger Capacity', 'Passenger Doors', 'Body Style',\n",
       "       'Transmission',\n",
       "       ...\n",
       "       'Fourth Shoulder Room (in)', 'Fourth Head Room (in)',\n",
       "       'Fifth Shoulder Room (in)', 'Fifth Head Room (in)',\n",
       "       'Fifth Hip Room (in)', 'Fifth Leg Room (in)', 'Corrosion Note',\n",
       "       'Hybrid/Electric Components Note', 'Hybrid', 'Hybrid Engine'],\n",
       "      dtype='object', length=236)"
      ]
     },
     "execution_count": 26,
     "metadata": {},
     "output_type": "execute_result"
    }
   ],
   "source": [
    "Specs_org.columns"
   ]
  },
  {
   "cell_type": "code",
   "execution_count": 39,
   "metadata": {},
   "outputs": [],
   "source": [
    "df = df.rename(columns=lambda x: x.split(\" (ft\")[0])"
   ]
  },
  {
   "cell_type": "code",
   "execution_count": 42,
   "metadata": {},
   "outputs": [],
   "source": [
    "#replacing 'EPA Fuel Economy Est - City (MPG)' and 'Passenger Volume' entries that have (\"...\") by blank\n",
    "df['EPA Fuel Economy Est - City (MPG)'] = df['EPA Fuel Economy Est - City (MPG)'].str.replace(r\"\\(.*\\)\",\"\")\n",
    "df['Passenger Volume'] = df['Passenger Volume'].str.replace(r\"\\(.*\\)\",\"\")"
   ]
  },
  {
   "cell_type": "markdown",
   "metadata": {},
   "source": [
    "#### MSRP"
   ]
  },
  {
   "cell_type": "code",
   "execution_count": 43,
   "metadata": {},
   "outputs": [],
   "source": [
    "#Converted dollar values to float\n",
    "df.MSRP = df.MSRP.str.replace(\"$\", \"\").str.replace(\",\", \"\").astype(float)"
   ]
  },
  {
   "cell_type": "markdown",
   "metadata": {},
   "source": [
    "#### Basic miles"
   ]
  },
  {
   "cell_type": "code",
   "execution_count": 48,
   "metadata": {},
   "outputs": [
    {
     "data": {
      "text/plain": [
       "36000.0     19862\n",
       "50000.0      7158\n",
       "60000.0      2278\n",
       "150000.0      290\n",
       "24000.0       255\n",
       "100000.0      214\n",
       "72000.0       137\n",
       "42000.0         5\n",
       "Name: Basic Miles/km, dtype: int64"
      ]
     },
     "execution_count": 48,
     "metadata": {},
     "output_type": "execute_result"
    }
   ],
   "source": [
    "#replaced unlimited with max Basic Miles and \"49711\" with \"50000\"\n",
    "df['Basic Miles/km'] = df['Basic Miles/km'].str.replace(\",\", \"\").str.replace(\"Unlimited\", \"150000\")\n",
    "df['Basic Miles/km'] = df['Basic Miles/km'].str.replace(\"49711\", \"50000\")\n",
    "df['Basic Miles/km'] = df['Basic Miles/km'].astype(float)\n",
    "df['Basic Miles/km'].value_counts()"
   ]
  },
  {
   "cell_type": "markdown",
   "metadata": {},
   "source": [
    "#### Drivetrain miles"
   ]
  },
  {
   "cell_type": "code",
   "execution_count": 51,
   "metadata": {},
   "outputs": [
    {
     "data": {
      "text/plain": [
       "60000.0     12777\n",
       "100000.0     6519\n",
       "50000.0      4927\n",
       "36000.0      2928\n",
       "70000.0      1587\n",
       "150000.0      410\n",
       "24000.0       227\n",
       "72000.0       137\n",
       "80000.0        10\n",
       "120000.0        5\n",
       "125000.0        1\n",
       "Name: Drivetrain Miles/km, dtype: int64"
      ]
     },
     "execution_count": 51,
     "metadata": {},
     "output_type": "execute_result"
    }
   ],
   "source": [
    "#replaced unlimited with max Drivetrain Miles/km and \"62139\" with \"60000\"\n",
    "df['Drivetrain Miles/km'] = df['Drivetrain Miles/km'].str.replace(\",\", \"\").str.replace(\"Unlimited\", \"150000\")\n",
    "df['Drivetrain Miles/km'] = df['Drivetrain Miles/km'].str.replace(\",\", \"\").str.replace(\"62139\", \"60000\")\n",
    "df['Drivetrain Miles/km'] = df['Drivetrain Miles/km'].astype(float)\n",
    "df['Drivetrain Miles/km'].value_counts()"
   ]
  },
  {
   "cell_type": "markdown",
   "metadata": {},
   "source": [
    "#### Roadside assistance"
   ]
  },
  {
   "cell_type": "code",
   "execution_count": 53,
   "metadata": {
    "scrolled": true
   },
   "outputs": [
    {
     "data": {
      "text/plain": [
       "100000.0    9772\n",
       "36000.0     7286\n",
       "60000.0     4636\n",
       "50000.0     2502\n",
       "70000.0      661\n",
       "25000.0      401\n",
       "24000.0       35\n",
       "Name: Roadside Assistance Miles/km, dtype: int64"
      ]
     },
     "execution_count": 53,
     "metadata": {},
     "output_type": "execute_result"
    }
   ],
   "source": [
    "#replaced unlimited with max Roadside Assistance Miles/km and \"49711\" with \"50000\"\n",
    "df['Roadside Assistance Miles/km'] = df['Roadside Assistance Miles/km'].str.replace(\",\", \"\")\n",
    "df['Roadside Assistance Miles/km'] = df['Roadside Assistance Miles/km'].str.replace(\"Unlimited\", \"100000\")\n",
    "df['Roadside Assistance Miles/km'] = df['Roadside Assistance Miles/km'].str.replace(\"49711\", \"50000\")\n",
    "df['Roadside Assistance Miles/km'] = df['Roadside Assistance Miles/km'].astype(float)\n",
    "df['Roadside Assistance Miles/km'].value_counts()"
   ]
  },
  {
   "cell_type": "markdown",
   "metadata": {},
   "source": [
    "#### Turning diameter"
   ]
  },
  {
   "cell_type": "code",
   "execution_count": 60,
   "metadata": {},
   "outputs": [],
   "source": [
    "#There are values that have \"..-\" in \"Turning Diameter - Curb to Curb\" column. we stipped those values and stored as float \n",
    "df['Turning Diameter - Curb to Curb'] = df['Turning Diameter - Curb to Curb'].str.strip('-')\n",
    "df['Turning Diameter - Curb to Curb'] = df['Turning Diameter - Curb to Curb'].str.split().str.get(0)\n",
    "df['Turning Diameter - Curb to Curb'] = df['Turning Diameter - Curb to Curb'].str.replace('TBD', \n",
    "                                                            '').replace(r'^\\s*$', np.nan, regex=True).astype(float)"
   ]
  },
  {
   "cell_type": "code",
   "execution_count": 1,
   "metadata": {},
   "outputs": [
    {
     "ename": "NameError",
     "evalue": "name 'df' is not defined",
     "output_type": "error",
     "traceback": [
      "\u001b[0;31m---------------------------------------------------------------------------\u001b[0m",
      "\u001b[0;31mNameError\u001b[0m                                 Traceback (most recent call last)",
      "\u001b[0;32m<ipython-input-1-0e566b70f572>\u001b[0m in \u001b[0;36m<module>\u001b[0;34m\u001b[0m\n\u001b[0;32m----> 1\u001b[0;31m \u001b[0mdf\u001b[0m\u001b[0;34m.\u001b[0m\u001b[0mshape\u001b[0m\u001b[0;34m(\u001b[0m\u001b[0;34m)\u001b[0m\u001b[0;34m\u001b[0m\u001b[0;34m\u001b[0m\u001b[0m\n\u001b[0m",
      "\u001b[0;31mNameError\u001b[0m: name 'df' is not defined"
     ]
    }
   ],
   "source": [
    "df.shape()"
   ]
  },
  {
   "cell_type": "code",
   "execution_count": null,
   "metadata": {},
   "outputs": [],
   "source": []
  }
 ],
 "metadata": {
  "kernelspec": {
   "display_name": "Python 3",
   "language": "python",
   "name": "python3"
  },
  "language_info": {
   "codemirror_mode": {
    "name": "ipython",
    "version": 3
   },
   "file_extension": ".py",
   "mimetype": "text/x-python",
   "name": "python",
   "nbconvert_exporter": "python",
   "pygments_lexer": "ipython3",
   "version": "3.7.3"
  }
 },
 "nbformat": 4,
 "nbformat_minor": 2
}
